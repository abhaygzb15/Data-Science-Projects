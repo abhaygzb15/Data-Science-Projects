{
 "cells": [
  {
   "cell_type": "markdown",
   "id": "2f0ec598",
   "metadata": {},
   "source": [
    "# Iris Flower Classification\n",
    "Aim : To build a model that can classify iris flowers into different species based on their sepal and petal measurements.                                            \n",
    "Name : Abhay Pawar                                                                                                             \n",
    "Domain : Data Science"
   ]
  },
  {
   "cell_type": "code",
   "execution_count": null,
   "id": "0198ef63",
   "metadata": {},
   "outputs": [],
   "source": []
  }
 ],
 "metadata": {
  "kernelspec": {
   "display_name": "Python 3 (ipykernel)",
   "language": "python",
   "name": "python3"
  },
  "language_info": {
   "codemirror_mode": {
    "name": "ipython",
    "version": 3
   },
   "file_extension": ".py",
   "mimetype": "text/x-python",
   "name": "python",
   "nbconvert_exporter": "python",
   "pygments_lexer": "ipython3",
   "version": "3.11.4"
  }
 },
 "nbformat": 4,
 "nbformat_minor": 5
}
