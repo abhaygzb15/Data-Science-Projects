{
 "cells": [
  {
   "cell_type": "markdown",
   "id": "86517fad",
   "metadata": {},
   "source": [
    "# Iris Flower Classification\n",
    "Aim : To build a model that can classify iris flowers into different species based on their sepal and petal measurements.                                            \n",
    "Name : Abhay Pawar                                                                                                             \n",
    "Domain : Data Science"
   ]
  },
  {
   "cell_type": "markdown",
   "id": "cd096993",
   "metadata": {},
   "source": [
    "## About the Project"
   ]
  },
  {
   "cell_type": "markdown",
   "id": "51cfd99c",
   "metadata": {},
   "source": [
    "Iris classification is a classic machine learning project where we train a model to identify the species of iris flowers based on a dataset. There are three species of iris flowers. The goal is to predict the species of a new flower based on its features. The following figure illustrates samples of the three species."
   ]
  },
  {
   "cell_type": "code",
   "execution_count": null,
   "id": "b8db3818",
   "metadata": {},
   "outputs": [],
   "source": []
  }
 ],
 "metadata": {
  "kernelspec": {
   "display_name": "Python 3 (ipykernel)",
   "language": "python",
   "name": "python3"
  },
  "language_info": {
   "codemirror_mode": {
    "name": "ipython",
    "version": 3
   },
   "file_extension": ".py",
   "mimetype": "text/x-python",
   "name": "python",
   "nbconvert_exporter": "python",
   "pygments_lexer": "ipython3",
   "version": "3.11.4"
  }
 },
 "nbformat": 4,
 "nbformat_minor": 5
}
